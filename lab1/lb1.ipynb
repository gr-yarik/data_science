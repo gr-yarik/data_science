{
 "cells": [
  {
   "cell_type": "code",
   "execution_count": 1,
   "id": "aab736bf",
   "metadata": {},
   "outputs": [
    {
     "name": "stdout",
     "output_type": "stream",
     "text": [
      "Age            0\n",
      "Gender         0\n",
      "Impressions    0\n",
      "Clicks         0\n",
      "Signed_In      0\n",
      "dtype: int64\n",
      "<class 'pandas.core.frame.DataFrame'>\n",
      "RangeIndex: 458441 entries, 0 to 458440\n",
      "Data columns (total 5 columns):\n",
      " #   Column       Non-Null Count   Dtype\n",
      "---  ------       --------------   -----\n",
      " 0   Age          458441 non-null  int64\n",
      " 1   Gender       458441 non-null  int64\n",
      " 2   Impressions  458441 non-null  int64\n",
      " 3   Clicks       458441 non-null  int64\n",
      " 4   Signed_In    458441 non-null  int64\n",
      "dtypes: int64(5)\n",
      "memory usage: 17.5 MB\n"
     ]
    }
   ],
   "source": [
    "import pandas as pd\n",
    "\n",
    "data = pd.read_csv(\"nyt1.csv\")\n",
    "print(data.isnull().sum())\n",
    "data.info()"
   ]
  },
  {
   "cell_type": "code",
   "execution_count": 2,
   "id": "95e7769f",
   "metadata": {},
   "outputs": [
    {
     "data": {
      "text/plain": [
       "array([ 36,  73,  30,  49,  47,   0,  46,  16,  52,  21,  57,  31,  40,\n",
       "        38,  59,  61,  48,  29,  19,  23,  66,  44,  32,  22,  74,  65,\n",
       "        63,  35,  33,  34,  43,  18,  17,  62,  27,  11,  42,  41,  14,\n",
       "        64,  24,  26,  39,  71,  45,  28,  83,  79,  67,  51,  60,  58,\n",
       "        53,  25,  50,  76,  15,  78,  55,  37,  56,  77,  85,  82,  13,\n",
       "        70,  84,  54,  20,  10,  81,  68,  72,  69,  87,  80,  88,  12,\n",
       "        86,  75,  89,   9,  96, 102,  98,  90,  99,  91,  92,  95,   8,\n",
       "        94,  93,  97,   7, 100, 103, 107, 101, 108, 104])"
      ]
     },
     "execution_count": 2,
     "metadata": {},
     "output_type": "execute_result"
    }
   ],
   "source": [
    "data.Age.unique()"
   ]
  },
  {
   "cell_type": "code",
   "execution_count": 3,
   "id": "9bf32695",
   "metadata": {},
   "outputs": [
    {
     "data": {
      "text/html": [
       "<div>\n",
       "<style scoped>\n",
       "    .dataframe tbody tr th:only-of-type {\n",
       "        vertical-align: middle;\n",
       "    }\n",
       "\n",
       "    .dataframe tbody tr th {\n",
       "        vertical-align: top;\n",
       "    }\n",
       "\n",
       "    .dataframe thead th {\n",
       "        text-align: right;\n",
       "    }\n",
       "</style>\n",
       "<table border=\"1\" class=\"dataframe\">\n",
       "  <thead>\n",
       "    <tr style=\"text-align: right;\">\n",
       "      <th></th>\n",
       "      <th>Gender</th>\n",
       "      <th>Impressions</th>\n",
       "      <th>Clicks</th>\n",
       "      <th>Signed_In</th>\n",
       "    </tr>\n",
       "    <tr>\n",
       "      <th>Age</th>\n",
       "      <th></th>\n",
       "      <th></th>\n",
       "      <th></th>\n",
       "      <th></th>\n",
       "    </tr>\n",
       "  </thead>\n",
       "  <tbody>\n",
       "    <tr>\n",
       "      <th>0</th>\n",
       "      <td>137106</td>\n",
       "      <td>137106</td>\n",
       "      <td>137106</td>\n",
       "      <td>137106</td>\n",
       "    </tr>\n",
       "    <tr>\n",
       "      <th>7</th>\n",
       "      <td>5</td>\n",
       "      <td>5</td>\n",
       "      <td>5</td>\n",
       "      <td>5</td>\n",
       "    </tr>\n",
       "    <tr>\n",
       "      <th>8</th>\n",
       "      <td>15</td>\n",
       "      <td>15</td>\n",
       "      <td>15</td>\n",
       "      <td>15</td>\n",
       "    </tr>\n",
       "    <tr>\n",
       "      <th>9</th>\n",
       "      <td>48</td>\n",
       "      <td>48</td>\n",
       "      <td>48</td>\n",
       "      <td>48</td>\n",
       "    </tr>\n",
       "    <tr>\n",
       "      <th>10</th>\n",
       "      <td>113</td>\n",
       "      <td>113</td>\n",
       "      <td>113</td>\n",
       "      <td>113</td>\n",
       "    </tr>\n",
       "    <tr>\n",
       "      <th>...</th>\n",
       "      <td>...</td>\n",
       "      <td>...</td>\n",
       "      <td>...</td>\n",
       "      <td>...</td>\n",
       "    </tr>\n",
       "    <tr>\n",
       "      <th>102</th>\n",
       "      <td>2</td>\n",
       "      <td>2</td>\n",
       "      <td>2</td>\n",
       "      <td>2</td>\n",
       "    </tr>\n",
       "    <tr>\n",
       "      <th>103</th>\n",
       "      <td>2</td>\n",
       "      <td>2</td>\n",
       "      <td>2</td>\n",
       "      <td>2</td>\n",
       "    </tr>\n",
       "    <tr>\n",
       "      <th>104</th>\n",
       "      <td>1</td>\n",
       "      <td>1</td>\n",
       "      <td>1</td>\n",
       "      <td>1</td>\n",
       "    </tr>\n",
       "    <tr>\n",
       "      <th>107</th>\n",
       "      <td>2</td>\n",
       "      <td>2</td>\n",
       "      <td>2</td>\n",
       "      <td>2</td>\n",
       "    </tr>\n",
       "    <tr>\n",
       "      <th>108</th>\n",
       "      <td>1</td>\n",
       "      <td>1</td>\n",
       "      <td>1</td>\n",
       "      <td>1</td>\n",
       "    </tr>\n",
       "  </tbody>\n",
       "</table>\n",
       "<p>101 rows × 4 columns</p>\n",
       "</div>"
      ],
      "text/plain": [
       "     Gender  Impressions  Clicks  Signed_In\n",
       "Age                                        \n",
       "0    137106       137106  137106     137106\n",
       "7         5            5       5          5\n",
       "8        15           15      15         15\n",
       "9        48           48      48         48\n",
       "10      113          113     113        113\n",
       "..      ...          ...     ...        ...\n",
       "102       2            2       2          2\n",
       "103       2            2       2          2\n",
       "104       1            1       1          1\n",
       "107       2            2       2          2\n",
       "108       1            1       1          1\n",
       "\n",
       "[101 rows x 4 columns]"
      ]
     },
     "execution_count": 3,
     "metadata": {},
     "output_type": "execute_result"
    }
   ],
   "source": [
    "data.groupby(\"Age\").count()"
   ]
  },
  {
   "cell_type": "code",
   "execution_count": null,
   "id": "579c9ed6",
   "metadata": {},
   "outputs": [],
   "source": [
    "data[data.Signed_In == 0].groupby(\"Gender\").count()"
   ]
  },
  {
   "cell_type": "code",
   "execution_count": null,
   "id": "befd6e52",
   "metadata": {},
   "outputs": [],
   "source": [
    "data[data.Age > 0].groupby(\"Gender\").count()"
   ]
  },
  {
   "cell_type": "code",
   "execution_count": 6,
   "id": "69056295",
   "metadata": {},
   "outputs": [],
   "source": [
    "data_no_null_age = data[data.Age > 0]"
   ]
  },
  {
   "cell_type": "code",
   "execution_count": null,
   "id": "0195d94b",
   "metadata": {},
   "outputs": [],
   "source": [
    "data_no_null_age.Age.hist()\n",
    "# Бачимо найбліьше імпрешенсів у людей віком від"
   ]
  },
  {
   "cell_type": "code",
   "execution_count": 7,
   "id": "8586d32b",
   "metadata": {},
   "outputs": [
    {
     "name": "stderr",
     "output_type": "stream",
     "text": [
      "/var/folders/_3/hs0s8fsn3rzbyb11px7cn7qw0000gp/T/ipykernel_21807/221367070.py:17: SettingWithCopyWarning: \n",
      "A value is trying to be set on a copy of a slice from a DataFrame.\n",
      "Try using .loc[row_indexer,col_indexer] = value instead\n",
      "\n",
      "See the caveats in the documentation: https://pandas.pydata.org/pandas-docs/stable/user_guide/indexing.html#returning-a-view-versus-a-copy\n",
      "  data_no_null_age['AgeGroup'] = data_no_null_age.Age.apply(lambda row: age_group(row))\n",
      "/var/folders/_3/hs0s8fsn3rzbyb11px7cn7qw0000gp/T/ipykernel_21807/221367070.py:37: SettingWithCopyWarning: \n",
      "A value is trying to be set on a copy of a slice from a DataFrame.\n",
      "Try using .loc[row_indexer,col_indexer] = value instead\n",
      "\n",
      "See the caveats in the documentation: https://pandas.pydata.org/pandas-docs/stable/user_guide/indexing.html#returning-a-view-versus-a-copy\n",
      "  data_no_null_age['AgeGroupInt'] = data_no_null_age.Age.apply(lambda row: age_group_int(row))\n"
     ]
    }
   ],
   "source": [
    "def age_group(age):\n",
    "    if age < 18:\n",
    "        return \"<18\"\n",
    "    elif 18 <= age <= 24:\n",
    "        return \"18-24\"\n",
    "    elif 25 <= age <= 34:\n",
    "        return \"25-34\"\n",
    "    elif 35 <= age <= 44:\n",
    "        return \"35-44\"\n",
    "    elif 45 <= age <= 54:\n",
    "        return \"45-54\"\n",
    "    elif 55 <= age <= 64:\n",
    "        return \"55-64\"\n",
    "    elif age >= 65:\n",
    "        return \"65+\"\n",
    "\n",
    "data_no_null_age['AgeGroup'] = data_no_null_age.Age.apply(lambda row: age_group(row))\n",
    "data_no_null_age['AgeGroup']\n",
    "\n",
    "def age_group_int(age):\n",
    "    if age < 18:\n",
    "        return 1\n",
    "    elif 18 <= age <= 24:\n",
    "        return 2\n",
    "    elif 25 <= age <= 34:\n",
    "        return 3\n",
    "    elif 35 <= age <= 44:\n",
    "        return 4\n",
    "    elif 45 <= age <= 54:\n",
    "        return 5\n",
    "    elif 55 <= age <= 64:\n",
    "        return 6\n",
    "    elif age >= 65:\n",
    "        return 7\n",
    "\n",
    "\n",
    "data_no_null_age['AgeGroupInt'] = data_no_null_age.Age.apply(lambda row: age_group_int(row))\n",
    "\n",
    "        "
   ]
  },
  {
   "cell_type": "code",
   "execution_count": 8,
   "id": "d74726bb",
   "metadata": {},
   "outputs": [
    {
     "data": {
      "image/png": "[encoded data removed]",
      "text/plain": [
       "<Figure size 432x288 with 4 Axes>"
      ]
     },
     "metadata": {
      "needs_background": "light"
     },
     "output_type": "display_data"
    }
   ],
   "source": [
    "from matplotlib import pyplot as plt\n",
    "data_no_null_age.hist(column=[\"AgeGroupInt\"], by=\"Clicks\")\n",
    "plt.show()"
   ]
  },
  {
   "cell_type": "code",
   "execution_count": 13,
   "id": "94d93cbe",
   "metadata": {},
   "outputs": [
    {
     "data": {
      "image/png": "[encoded data removed]",
      "text/plain": [
       "<Figure size 720x576 with 9 Axes>"
      ]
     },
     "metadata": {
      "needs_background": "light"
     },
     "output_type": "display_data"
    }
   ],
   "source": [
    "data_no_null_age.hist(column=[\"Impressions\"], by=\"AgeGroup\", figsize=(10, 8))\n",
    "plt.show()\n"
   ]
  },
  {
   "cell_type": "code",
   "execution_count": 18,
   "id": "3be1b2a5",
   "metadata": {},
   "outputs": [
    {
     "data": {
      "image/png": "[encoded data removed]",
      "text/plain": [
       "<Figure size 432x288 with 1 Axes>"
      ]
     },
     "metadata": {
      "needs_background": "light"
     },
     "output_type": "display_data"
    }
   ],
   "source": [
    "data_no_null_age = data_no_null_age.groupby(['AgeGroup']).mean()\n",
    "data_no_null_age.plot.bar()\n",
    "plt.show()\n"
   ]
  },
  {
   "cell_type": "code",
   "execution_count": 19,
   "id": "13562fe0",
   "metadata": {},
   "outputs": [
    {
     "name": "stdout",
     "output_type": "stream",
     "text": [
      "Age            440.192311\n",
      "Gender           0.008640\n",
      "Impressions      0.000102\n",
      "Clicks           0.002218\n",
      "Signed_In        0.000000\n",
      "AgeGroupInt      4.666667\n",
      "dtype: float64\n"
     ]
    }
   ],
   "source": [
    "print(data_no_null_age.var())"
   ]
  },
  {
   "cell_type": "code",
   "execution_count": null,
   "id": "1bff583c",
   "metadata": {},
   "outputs": [],
   "source": []
  }
 ],
 "metadata": {
  "kernelspec": {
   "display_name": "Python 3 (ipykernel)",
   "language": "python",
   "name": "python3"
  },
  "language_info": {
   "codemirror_mode": {
    "name": "ipython",
    "version": 3
   },
   "file_extension": ".py",
   "mimetype": "text/x-python",
   "name": "python",
   "nbconvert_exporter": "python",
   "pygments_lexer": "ipython3",
   "version": "3.9.12"
  }
 },
 "nbformat": 4,
 "nbformat_minor": 5
}
